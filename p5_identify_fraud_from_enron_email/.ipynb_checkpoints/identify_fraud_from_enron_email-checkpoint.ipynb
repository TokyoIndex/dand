{
 "cells": [
  {
   "cell_type": "markdown",
   "metadata": {},
   "source": [
    "# Identify Fraud From Enron Email"
   ]
  },
  {
   "cell_type": "code",
   "execution_count": 1,
   "metadata": {
    "collapsed": true
   },
   "outputs": [],
   "source": [
    "import sys\n",
    "import pickle\n",
    "import matplotlib.pyplot as plt\n",
    "import pandas as pd\n",
    "import numpy as np"
   ]
  },
  {
   "cell_type": "code",
   "execution_count": 7,
   "metadata": {
    "collapsed": true
   },
   "outputs": [],
   "source": [
    "sys.path.append(\"tools/\")"
   ]
  },
  {
   "cell_type": "code",
   "execution_count": 8,
   "metadata": {
    "collapsed": false
   },
   "outputs": [],
   "source": [
    "from feature_format import featureFormat, targetFeatureSplit\n",
    "from tester import dump_classifier_and_data"
   ]
  },
  {
   "cell_type": "markdown",
   "metadata": {},
   "source": [
    "### Task 1: Select what features you'll use"
   ]
  },
  {
   "cell_type": "code",
   "execution_count": 9,
   "metadata": {
    "collapsed": true
   },
   "outputs": [],
   "source": [
    "### features_list is a list of strings, each of which is a feature name.\n",
    "### The first feature must be \"poi\".\n",
    "features_list = [\n",
    "    'poi',\n",
    "    'salary',\n",
    "    'to_messages',\n",
    "    'deferral_payments',\n",
    "    'total_payments',\n",
    "    'exercised_stock_options',\n",
    "    'bonus',\n",
    "    'restricted_stock',\n",
    "    'shared_receipt_with_poi',\n",
    "    'restricted_stock_deferred',\n",
    "    'total_stock_value',\n",
    "    'expenses',\n",
    "    'loan_advances',\n",
    "    'from_messages',\n",
    "    'other',\n",
    "    'from_this_person_to_poi',\n",
    "    'director_fees',\n",
    "    'deferred_income',\n",
    "    'long_term_incentive',\n",
    "    #'email_address', causes featureFormat issues when trying to convert to float\n",
    "    'from_poi_to_this_person'\n",
    "] "
   ]
  },
  {
   "cell_type": "code",
   "execution_count": 11,
   "metadata": {
    "collapsed": false
   },
   "outputs": [],
   "source": [
    "### Load the dictionary containing the dataset\n",
    "with open(\"final_project_dataset.pkl\", \"r\") as data_file:\n",
    "    data_dict = pickle.load(data_file)"
   ]
  },
  {
   "cell_type": "code",
   "execution_count": 12,
   "metadata": {
    "collapsed": false
   },
   "outputs": [
    {
     "name": "stdout",
     "output_type": "stream",
     "text": [
      "Number of Records: 146\n",
      "Number of Features per Person: 21\n",
      "There are 14 financial features and 6 email features\n",
      "The last feature is a label denoting a Person of Interest(POI)\n"
     ]
    }
   ],
   "source": [
    "# Explore the Data\n",
    "print 'Number of Records:', len(data_dict)\n",
    "print 'Number of Features per Person:', len(data_dict.values()[0])\n",
    "#print 'List of Features:', data_dict.values()[0]\n",
    "print 'There are 14 financial features and 6 email features'\n",
    "print 'The last feature is a label denoting a Person of Interest(POI)'"
   ]
  },
  {
   "cell_type": "markdown",
   "metadata": {},
   "source": [
    "### Task 2: Remove outliers"
   ]
  },
  {
   "cell_type": "code",
   "execution_count": 31,
   "metadata": {
    "collapsed": false
   },
   "outputs": [
    {
     "name": "stdout",
     "output_type": "stream",
     "text": [
      "Details:\n",
      "             salary         bonus\n",
      "count  1.460000e+02  1.460000e+02\n",
      "mean   3.658114e+05  1.333474e+06\n",
      "std    2.203575e+06  8.094029e+06\n",
      "min    0.000000e+00  0.000000e+00\n",
      "25%    0.000000e+00  0.000000e+00\n",
      "50%    2.105960e+05  3.000000e+05\n",
      "75%    2.708505e+05  8.000000e+05\n",
      "max    2.670423e+07  9.734362e+07\n"
     ]
    }
   ],
   "source": [
    "# Inspect Data manually for outliers\n",
    "data_dict = pickle.load(open(\"final_project_dataset.pkl\", \"r\") )\n",
    "###creating dataFrame from dictionary - pandas\n",
    "df = pd.DataFrame.from_dict(data_dict, orient='index', dtype=np.float)\n",
    "df = df.fillna(value=0)\n",
    "print 'Details:'\n",
    "print df.describe().loc[:,['salary','bonus']]\n",
    "# Investigate the very high salary/bonus and very low salary/bonus"
   ]
  },
  {
   "cell_type": "code",
   "execution_count": 14,
   "metadata": {
    "collapsed": false
   },
   "outputs": [
    {
     "name": "stdout",
     "output_type": "stream",
     "text": [
      "\n",
      "\n",
      "['METTS MARK', 'BAXTER JOHN C', 'ELLIOTT STEVEN', 'CORDES WILLIAM R', 'HANNON KEVIN P', 'MORDAUNT KRISTINA M', 'MEYER ROCKFORD G', 'MCMAHON JEFFREY', 'HORTON STANLEY C', 'PIPER GREGORY F', 'HUMPHREY GENE E', 'UMANOFF ADAM S', 'BLACHMAN JEREMY M', 'SUNDE MARTIN', 'GIBBS DANA R', 'LOWRY CHARLES P', 'COLWELL WESLEY', 'MULLER MARK S', 'JACKSON CHARLENE R', 'WESTFAHL RICHARD K', 'WALTERS GARETH W', 'WALLS JR ROBERT H', 'KITCHEN LOUISE', 'CHAN RONNIE', 'BELFER ROBERT', 'SHANKMAN JEFFREY A', 'WODRASKA JOHN', 'BERGSIEKER RICHARD P', 'URQUHART JOHN A', 'BIBI PHILIPPE A', 'RIEKER PAULA H', 'WHALEY DAVID A', 'BECK SALLY W', 'HAUG DAVID L', 'ECHOLS JOHN B', 'MENDELSOHN JOHN', 'HICKERSON GARY J', 'CLINE KENNETH W', 'LEWIS RICHARD', 'HAYES ROBERT E', 'MCCARTY DANNY J', 'KOPPER MICHAEL J', 'LEFF DANIEL P', 'LAVORATO JOHN J', 'BERBERIAN DAVID', 'DETMERING TIMOTHY J', 'WAKEHAM JOHN', 'POWERS WILLIAM', 'GOLD JOSEPH', 'BANNANTINE JAMES M', 'DUNCAN JOHN H', 'SHAPIRO RICHARD S', 'SHERRIFF JOHN R', 'SHELBY REX', 'LEMAISTRE CHARLES', 'DEFFNER JOSEPH M', 'KISHKILL JOSEPH G', 'WHALLEY LAWRENCE G', 'MCCONNELL MICHAEL S', 'PIRO JIM', 'DELAINEY DAVID W', 'SULLIVAN-SHAKLOVITZ COLLEEN', 'WROBEL BRUCE', 'LINDHOLM TOD A', 'MEYER JEROME J', 'LAY KENNETH L', 'BUTTS ROBERT H', 'OLSON CINDY K', 'MCDONALD REBECCA', 'CUMBERLAND MICHAEL S', 'GAHN ROBERT S', 'MCCLELLAN GEORGE', 'HERMANN ROBERT J', 'SCRIMSHAW MATTHEW', 'GATHMANN WILLIAM D', 'HAEDICKE MARK E', 'BOWEN JR RAYMOND M', 'GILLIS JOHN', 'FITZGERALD JAY L', 'MORAN MICHAEL P', 'REDMOND BRIAN L', 'BAZELIDES PHILIP J', 'BELDEN TIMOTHY N', 'DURAN WILLIAM D', 'THORN TERENCE H', 'FASTOW ANDREW S', 'FOY JOE', 'CALGER CHRISTOPHER F', 'RICE KENNETH D', 'KAMINSKI WINCENTY J', 'LOCKHART EUGENE E', 'COX DAVID', 'OVERDYKE JR JERE C', 'PEREIRA PAULO V. FERRAZ', 'STABLER FRANK', 'SKILLING JEFFREY K', 'BLAKE JR. NORMAN P', 'SHERRICK JEFFREY B', 'PRENTICE JAMES', 'GRAY RODNEY', 'PICKERING MARK R', 'THE TRAVEL AGENCY IN THE PARK', 'NOLES JAMES L', 'KEAN STEVEN J', 'TOTAL', 'FOWLER PEGGY', 'WASAFF GEORGE', 'WHITE JR THOMAS E', 'CHRISTODOULOU DIOMEDES', 'ALLEN PHILLIP K', 'SHARP VICTORIA T', 'JAEDICKE ROBERT', 'WINOKUR JR. HERBERT S', 'BROWN MICHAEL', 'BADUM JAMES P', 'HUGHES JAMES A', 'REYNOLDS LAWRENCE', 'DIMICHELE RICHARD G', 'BHATNAGAR SANJAY', 'CARTER REBECCA C', 'BUCHANAN HAROLD G', 'YEAP SOON', 'MURRAY JULIA H', 'GARLAND C KEVIN', 'DODSON KEITH', 'YEAGER F SCOTT', 'HIRKO JOSEPH', 'DIETRICH JANET R', 'DERRICK JR. JAMES V', 'FREVERT MARK A', 'PAI LOU L', 'BAY FRANKLIN R', 'HAYSLETT RODERICK J', 'FUGH JOHN L', 'FALLON JAMES B', 'KOENIG MARK E', 'SAVAGE FRANK', 'IZZO LAWRENCE L', 'TILNEY ELIZABETH A', 'MARTIN AMANDA K', 'BUY RICHARD B', 'GRAMM WENDY L', 'CAUSEY RICHARD A', 'TAYLOR MITCHELL S', 'DONAHUE JR JEFFREY M', 'GLISAN JR BEN F']\n"
     ]
    }
   ],
   "source": [
    "# print the names\n",
    "print \"\\n\"\n",
    "print data_dict.keys()"
   ]
  },
  {
   "cell_type": "code",
   "execution_count": 15,
   "metadata": {
    "collapsed": false
   },
   "outputs": [
    {
     "name": "stdout",
     "output_type": "stream",
     "text": [
      "\n",
      "\n",
      "Removing Outliers: 'TOTAL', 'THE TRAVEL AGENCY IN THE PARK', 'LOCKHART, EUGENE E'\n"
     ]
    }
   ],
   "source": [
    "# THE TRAVEL AGENCY IN THE PARK, TOTAL, LOCKHART, EUGENE E\n",
    "def remove_outliers(data, outliers):\n",
    "    for outlier in data:\n",
    "        data.pop('outliers', 0)\n",
    "    return data\n",
    "\n",
    "outliers = ['TOTAL', 'THE TRAVEL AGENCY IN THE PARK', 'LOCKHART, EUGENE E']\n",
    "remove_outliers(data_dict, outliers)\n",
    "print \"\\n\"\n",
    "print \"Removing Outliers: 'TOTAL', 'THE TRAVEL AGENCY IN THE PARK', 'LOCKHART, EUGENE E'\""
   ]
  },
  {
   "cell_type": "code",
   "execution_count": 16,
   "metadata": {
    "collapsed": false
   },
   "outputs": [
    {
     "name": "stdout",
     "output_type": "stream",
     "text": [
      "\n",
      "\n",
      "List of Features by Influence (desc): [('shared_receipt_with_poi', 8.9038215571655712), ('from_poi_to_this_person', 5.4466874833253529), ('loan_advances', 2.5182610445203437), ('from_this_person_to_poi', 2.470521222656084), ('to_messages', 1.7516942790340737), ('director_fees', 0.54908420147980874), ('total_payments', 0.34962715304280179), ('deferral_payments', 0.23899588985313305), ('exercised_stock_options', 0.22826733729104948), ('deferred_income', 0.21950572394230994), ('total_stock_value', 0.16611912320976671), ('from_messages', 0.1587702392129193), ('bonus', 0.077948855777229875), ('other', 0.068194519159558625), ('restricted_stock', 0.031333216297618496), ('long_term_incentive', 0.022229270861607336), ('expenses', 0.01397841382175243), ('restricted_stock_deferred', 0.0041731922805086684), ('salary', 0.00016005424569618399)]\n"
     ]
    }
   ],
   "source": [
    "### Use KBest to find the actual features we will use\n",
    "# Use SelectKBest to find the most influencial features\n",
    "from sklearn import feature_selection \n",
    "\n",
    "k_data = featureFormat(data_dict, features_list)\n",
    "labels, features = targetFeatureSplit(k_data)\n",
    "\n",
    "k_best = feature_selection.SelectKBest()\n",
    "k_best.fit(features, labels)\n",
    "scores = k_best.scores_\n",
    "feature_scores = zip(features_list[1:], scores)\n",
    "sorted_feature_scores = list(reversed(sorted(feature_scores, key = lambda x: x[1]))) # sort by scores, desc\n",
    "print \"\\n\"\n",
    "print 'List of Features by Influence (desc):', sorted_feature_scores"
   ]
  },
  {
   "cell_type": "code",
   "execution_count": 17,
   "metadata": {
    "collapsed": false
   },
   "outputs": [
    {
     "name": "stdout",
     "output_type": "stream",
     "text": [
      "\n",
      "\n",
      "Top Five: [('shared_receipt_with_poi', 8.9038215571655712), ('from_poi_to_this_person', 5.4466874833253529), ('loan_advances', 2.5182610445203437), ('from_this_person_to_poi', 2.470521222656084), ('to_messages', 1.7516942790340737)]\n"
     ]
    }
   ],
   "source": [
    "# Top Five\n",
    "top_five = sorted_feature_scores[:5]\n",
    "print \"\\n\"\n",
    "print 'Top Five:', top_five"
   ]
  },
  {
   "cell_type": "code",
   "execution_count": 18,
   "metadata": {
    "collapsed": true
   },
   "outputs": [],
   "source": [
    "target = ['poi']\n",
    "\n",
    "email_features_list = [\n",
    "    #'from_messages',\n",
    "    'from_poi_to_this_person',\n",
    "    'from_this_person_to_poi',\n",
    "    'shared_receipt_with_poi',\n",
    "    'to_messages'\n",
    "    ]\n",
    "\n",
    "financial_features_list = [\n",
    "    #'bonus',\n",
    "    #'deferral_payments',\n",
    "    #'deferred_income',\n",
    "    'director_fees',\n",
    "    #'exercised_stock_options',\n",
    "    #'expenses',\n",
    "    'loan_advances',\n",
    "    #'long_term_incentive',\n",
    "    #'other',\n",
    "    #'restricted_stock',\n",
    "    #'restricted_stock_deferred',\n",
    "    #'salary',\n",
    "    #'total_payments',\n",
    "    #'total_stock_value'\n",
    "    ]"
   ]
  },
  {
   "cell_type": "code",
   "execution_count": 20,
   "metadata": {
    "collapsed": false
   },
   "outputs": [
    {
     "data": {
      "image/png": "[encoded data removed]",
      "text/plain": [
       "<matplotlib.figure.Figure at 0x113f46e50>"
      ]
     },
     "metadata": {},
     "output_type": "display_data"
    }
   ],
   "source": [
    "## Visualize Feature Scores\n",
    "x = [1, 2, 3,4, 5, 6, 7, 8, 9, 10, 11, 12, 13, 14, 15, 16, 17, 18, 19]\n",
    "y = sorted(scores, reverse=True)\n",
    "plt.scatter( x, y  )\n",
    "\n",
    "plt.xlabel(\"SelectKBest Feature Scores\")\n",
    "plt.ylabel(\"Feature\")\n",
    "plt.show()"
   ]
  },
  {
   "cell_type": "code",
   "execution_count": 21,
   "metadata": {
    "collapsed": false
   },
   "outputs": [
    {
     "data": {
      "image/png": "[encoded data removed]",
      "text/plain": [
       "<matplotlib.figure.Figure at 0x113e1a790>"
      ]
     },
     "metadata": {},
     "output_type": "display_data"
    }
   ],
   "source": [
    "## Measure Precision and Recall for different arragements of Features\n",
    "\n",
    "## Visualize Precision and Recall\n",
    "precision = [0, 0.00339, 0, 0, 0, 0.19038, 0.14755, 0.15423, 0.14552, 0.14509, 0.14195, 0.14276, 0.14134, 0.14139, 0.14146, 0.14143, 0.14186, 0.15593, 0.15599]\n",
    "recall = [0, 0.00200, 0, 0, 0, 0.76800, 0.82400, 0.81400, 0.82300, 0.82050, 0.81850, 0.82050, 0.81850, 0.81700, 0.81900, 0.81900, 0.82250, 0.83600, 0.83400]\n",
    "num_of_features = x\n",
    "plt.scatter( x, precision, c='b'   )\n",
    "plt.scatter( x, recall, c='r'  )\n",
    "\n",
    "plt.xlabel(\"K best Features\")\n",
    "plt.ylabel(\"Score\")\n",
    "plt.show()"
   ]
  },
  {
   "cell_type": "markdown",
   "metadata": {},
   "source": [
    "### Task 3: Create new feature(s)"
   ]
  },
  {
   "cell_type": "code",
   "execution_count": 23,
   "metadata": {
    "collapsed": true
   },
   "outputs": [],
   "source": [
    "### Store to my_dataset for easy export below., 0.15423, 0.14552\n",
    "my_dataset = data_dict\n",
    "\n",
    "# Calculate the Ratio of Messages\n",
    "def ratio(poi_messages, all_messages):\n",
    "    if poi_messages == 'NaN' or all_messages == 'NaN':\n",
    "        return 0\n",
    "    else:\n",
    "        return poi_messages / all_messages\n",
    "\n",
    "for employee in my_dataset:\n",
    "    data_point = my_dataset[employee]\n",
    "    to_messages = data_point[\"to_messages\"]\n",
    "    from_messages = data_point[\"from_messages\"]\n",
    "    from_this_person_to_poi = data_point[\"from_this_person_to_poi\"]\n",
    "    from_poi_to_this_person = data_point[\"from_poi_to_this_person\"]\n",
    "    fraction_from_poi = ratio(from_poi_to_this_person, to_messages)\n",
    "    data_point[\"fraction_from_poi\"] = fraction_from_poi\n",
    "    fraction_to_poi = ratio(from_this_person_to_poi, from_messages)\n",
    "    data_point[\"fraction_to_poi\"] = fraction_to_poi"
   ]
  },
  {
   "cell_type": "code",
   "execution_count": 24,
   "metadata": {
    "collapsed": true
   },
   "outputs": [],
   "source": [
    "# Add new feature to my feature list\n",
    "features_list = target + email_features_list + financial_features_list #+ ['fraction_to_poi', 'fraction_from_poi']"
   ]
  },
  {
   "cell_type": "code",
   "execution_count": 25,
   "metadata": {
    "collapsed": true
   },
   "outputs": [],
   "source": [
    "### Extract features and labels from dataset for local testing\n",
    "data = featureFormat(my_dataset, features_list, sort_keys = True)\n",
    "labels, features = targetFeatureSplit(data)"
   ]
  },
  {
   "cell_type": "markdown",
   "metadata": {},
   "source": [
    "### Task 4: Try a varity of classifiers"
   ]
  },
  {
   "cell_type": "code",
   "execution_count": 33,
   "metadata": {
    "collapsed": true
   },
   "outputs": [],
   "source": [
    "### Please name your classifier clf for easy export below.\n",
    "### Note that if you want to do PCA or other multi-stage operations,\n",
    "### you'll need to use Pipelines. For more info:\n",
    "### http://scikit-learn.org/stable/modules/pipeline.html\n",
    "\n",
    "# Provided to give you a starting point. Try a variety of classifiers.\n",
    "from sklearn.naive_bayes import GaussianNB\n",
    "#clf = GaussianNB()\n",
    "\n",
    "from sklearn import neighbors\n",
    "#clf = neighbors.KNeighborsClassifier(n_neighbors=2)\n",
    "\n",
    "from sklearn import tree \n",
    "#clf = tree.DecisionTreeClassifier(random_state = 24, class_weight = \"balanced\")  # pretty good results # \n",
    "\n",
    "from sklearn.linear_model import LogisticRegression\n",
    "clf = LogisticRegression(C = 10**20, random_state = 42, tol = 10**-10, class_weight='balanced') # much better results "
   ]
  },
  {
   "cell_type": "markdown",
   "metadata": {},
   "source": [
    "### Task 5: Tune your classifier to achieve better than .3 precision and recall "
   ]
  },
  {
   "cell_type": "code",
   "execution_count": 32,
   "metadata": {
    "collapsed": true
   },
   "outputs": [],
   "source": [
    "### using our testing script. Check the tester.py script in the final project\n",
    "### folder for details on the evaluation method, especially the test_classifier\n",
    "### function. Because of the small size of the dataset, the script uses\n",
    "### stratified shuffle split cross validation. For more info: \n",
    "### http://scikit-learn.org/stable/modules/generated/sklearn.cross_validation.StratifiedShuffleSplit.html\n",
    "\n",
    "# Example starting point. Try investigating other evaluation techniques!\n",
    "from sklearn.cross_validation import train_test_split\n",
    "features_train, features_test, labels_train, labels_test = \\\n",
    "    train_test_split(features, labels, test_size=0.4, random_state=42)\n",
    "\n",
    "\n",
    "clf.fit(features_train, labels_train)\n",
    "pred = clf.predict(features_test)"
   ]
  },
  {
   "cell_type": "code",
   "execution_count": 29,
   "metadata": {
    "collapsed": false
   },
   "outputs": [
    {
     "name": "stdout",
     "output_type": "stream",
     "text": [
      "\n",
      "\n",
      "LogisticRegression(C=100000000000000000000L, class_weight='balanced',\n",
      "          dual=False, fit_intercept=True, intercept_scaling=1,\n",
      "          max_iter=100, multi_class='ovr', n_jobs=1, penalty='l2',\n",
      "          random_state=42, solver='liblinear', tol=1e-10, verbose=0,\n",
      "          warm_start=False)\n",
      "\tAccuracy: 0.75173\tPrecision: 0.38981\tRecall: 0.64650\tF1: 0.48636\tF2: 0.57126\n",
      "\tTotal predictions: 11000\tTrue positives: 1293\tFalse positives: 2024\tFalse negatives:  707\tTrue negatives: 6976\n",
      "\n"
     ]
    }
   ],
   "source": [
    "# Call tester.py for Evaluation\n",
    "print \"\\n\"\n",
    "from tester import test_classifier\n",
    "test_classifier(clf, my_dataset, features_list)"
   ]
  },
  {
   "cell_type": "markdown",
   "metadata": {},
   "source": [
    "### Task 6: Dump your classifier, dataset, and features_list so anyone can"
   ]
  },
  {
   "cell_type": "code",
   "execution_count": 30,
   "metadata": {
    "collapsed": true
   },
   "outputs": [],
   "source": [
    "### check your results. You do not need to change anything below, but make sure\n",
    "### that the version of poi_id.py that you submit can be run on its own and\n",
    "### generates the necessary .pkl files for validating your results.\n",
    "\n",
    "dump_classifier_and_data(clf, my_dataset, features_list)\n",
    "\n",
    "### good job!  have some cake."
   ]
  },
  {
   "cell_type": "code",
   "execution_count": null,
   "metadata": {
    "collapsed": true
   },
   "outputs": [],
   "source": []
  }
 ],
 "metadata": {
  "anaconda-cloud": {},
  "kernelspec": {
   "display_name": "Python [mlnd]",
   "language": "python",
   "name": "Python [mlnd]"
  },
  "language_info": {
   "codemirror_mode": {
    "name": "ipython",
    "version": 2
   },
   "file_extension": ".py",
   "mimetype": "text/x-python",
   "name": "python",
   "nbconvert_exporter": "python",
   "pygments_lexer": "ipython2",
   "version": "2.7.13"
  }
 },
 "nbformat": 4,
 "nbformat_minor": 0
}
