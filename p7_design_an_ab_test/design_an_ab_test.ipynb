{
 "cells": [
  {
   "cell_type": "code",
   "execution_count": 3,
   "metadata": {
    "collapsed": true
   },
   "outputs": [],
   "source": [
    "import pandas as pd\n",
    "import numpy as np"
   ]
  },
  {
   "cell_type": "code",
   "execution_count": 10,
   "metadata": {
    "collapsed": true
   },
   "outputs": [],
   "source": [
    "pageviews = 5000"
   ]
  },
  {
   "cell_type": "code",
   "execution_count": 23,
   "metadata": {
    "collapsed": false
   },
   "outputs": [
    {
     "data": {
      "text/html": [
       "<div>\n",
       "<table border=\"1\" class=\"dataframe\">\n",
       "  <thead>\n",
       "    <tr style=\"text-align: right;\">\n",
       "      <th></th>\n",
       "      <th>metric</th>\n",
       "      <th>BaselineValues</th>\n",
       "    </tr>\n",
       "  </thead>\n",
       "  <tbody>\n",
       "    <tr>\n",
       "      <th>0</th>\n",
       "      <td>unique cookies to view page per day:</td>\n",
       "      <td>40000.000000</td>\n",
       "    </tr>\n",
       "    <tr>\n",
       "      <th>1</th>\n",
       "      <td>unique cookies to click \"start free trial\" per...</td>\n",
       "      <td>3200.000000</td>\n",
       "    </tr>\n",
       "    <tr>\n",
       "      <th>2</th>\n",
       "      <td>enrollments per day:</td>\n",
       "      <td>660.000000</td>\n",
       "    </tr>\n",
       "    <tr>\n",
       "      <th>3</th>\n",
       "      <td>click-through-probability on \"start free trial\":</td>\n",
       "      <td>0.080000</td>\n",
       "    </tr>\n",
       "    <tr>\n",
       "      <th>4</th>\n",
       "      <td>probability of enrolling, given click:</td>\n",
       "      <td>0.206250</td>\n",
       "    </tr>\n",
       "    <tr>\n",
       "      <th>5</th>\n",
       "      <td>probability of payment, given enroll:</td>\n",
       "      <td>0.530000</td>\n",
       "    </tr>\n",
       "    <tr>\n",
       "      <th>6</th>\n",
       "      <td>probability of payment, given click</td>\n",
       "      <td>0.109313</td>\n",
       "    </tr>\n",
       "  </tbody>\n",
       "</table>\n",
       "</div>"
      ],
      "text/plain": [
       "                                              metric  BaselineValues\n",
       "0               unique cookies to view page per day:    40000.000000\n",
       "1  unique cookies to click \"start free trial\" per...     3200.000000\n",
       "2                               enrollments per day:      660.000000\n",
       "3   click-through-probability on \"start free trial\":        0.080000\n",
       "4             probability of enrolling, given click:        0.206250\n",
       "5              probability of payment, given enroll:        0.530000\n",
       "6                probability of payment, given click        0.109313"
      ]
     },
     "execution_count": 23,
     "metadata": {},
     "output_type": "execute_result"
    }
   ],
   "source": [
    "df_basevals = pd.read_csv(\"Final Project Baseline Values.csv\", index_col = False, header = None, names = ['metric', 'BaselineValues'])\n",
    "df_basevals.metric = df_basevals.metric.map(lambda x: x.lower())\n",
    "df_basevals"
   ]
  },
  {
   "cell_type": "markdown",
   "metadata": {},
   "source": [
    "Standard Deviation of Gross Conversion:"
   ]
  },
  {
   "cell_type": "code",
   "execution_count": 11,
   "metadata": {
    "collapsed": false
   },
   "outputs": [
    {
     "data": {
      "text/plain": [
       "0.0202"
      ]
     },
     "execution_count": 11,
     "metadata": {},
     "output_type": "execute_result"
    }
   ],
   "source": [
    "round(np.sqrt((.206250*(1-.206250))/(5000*3200/40000)),4)"
   ]
  },
  {
   "cell_type": "markdown",
   "metadata": {},
   "source": [
    "Standard Deviation of Retention:"
   ]
  },
  {
   "cell_type": "code",
   "execution_count": 16,
   "metadata": {
    "collapsed": false
   },
   "outputs": [
    {
     "data": {
      "text/plain": [
       "0.0551"
      ]
     },
     "execution_count": 16,
     "metadata": {},
     "output_type": "execute_result"
    }
   ],
   "source": [
    "round(np.sqrt((0.530000*(1-0.530000))/(5000*660/40000)),4)"
   ]
  },
  {
   "cell_type": "markdown",
   "metadata": {},
   "source": [
    "Standard Deviation of Net Conversion:"
   ]
  },
  {
   "cell_type": "code",
   "execution_count": 17,
   "metadata": {
    "collapsed": false
   },
   "outputs": [
    {
     "data": {
      "text/plain": [
       "0.0156"
      ]
     },
     "execution_count": 17,
     "metadata": {},
     "output_type": "execute_result"
    }
   ],
   "source": [
    "round(np.sqrt((0.109313*(1-0.109313))/(5000*3200/40000)),4)"
   ]
  },
  {
   "cell_type": "markdown",
   "metadata": {},
   "source": [
    "http://www.evanmiller.org/ab-testing/sample-size.html"
   ]
  },
  {
   "cell_type": "markdown",
   "metadata": {},
   "source": [
    "# Pageviews without Bonferroni Correction"
   ]
  },
  {
   "cell_type": "markdown",
   "metadata": {},
   "source": [
    "<b>Gross Conversion</b>\n",
    "\n",
    "Baseline Conversion Rate: 20.625%\n",
    "\n",
    "Minimum Detectable Effect: 1%\n",
    "\n",
    "α: 5%\n",
    "\n",
    "β: 20%\n",
    "\n",
    "1 - β: 80%\n",
    "\n",
    "Sample Size = 25,835 (Enrollments per Group)\n",
    "\n",
    "Number of Groups = 2 (Experiment and Control)\n",
    "\n",
    "Total Sample Size = 51,670 enrollments\n",
    "\n",
    "Clicks/Pageview: 3200/40000 = 0.08 Clicks/Pageview\n",
    "\n",
    "Pageviews = 645,875\n"
   ]
  },
  {
   "cell_type": "markdown",
   "metadata": {},
   "source": [
    "<b>Retention</b>\n",
    "\n",
    "Baseline Conversion Rate: 53%\n",
    "\n",
    "Minimum Detectable Effect: 1%\n",
    "\n",
    "α: 5%\n",
    "\n",
    "β: 20%\n",
    "\n",
    "1 - β: 80%\n",
    "\n",
    "Sample Size = 39,115 (Enrollments per Group)\n",
    "\n",
    "Number of Groups = 2 (Experiment and Control)\n",
    "\n",
    "Total Sample Size = 78,230 enrollments\n",
    "\n",
    "Clicks/Pageview: 660/40000 =  0.0165 Clicks/Pageview\n",
    "\n",
    "Pageviews = 4,741,212"
   ]
  },
  {
   "cell_type": "markdown",
   "metadata": {},
   "source": [
    "<b>Net Conversion</b>\n",
    "\n",
    "Baseline Conversion Rate: 10.9313%\n",
    "\n",
    "Minimum Detectable Effect: 0.75%\n",
    "\n",
    "α: 5%\n",
    "\n",
    "β: 20%\n",
    "\n",
    "1 - β: 80%\n",
    "\n",
    "Sample Size = 27,413 (Enrollments per Group)\n",
    "\n",
    "Number of Groups = 2 (Experiment and Control)\n",
    "\n",
    "Total Sample Size = 54,826 enrollments\n",
    "\n",
    "Clicks/Pageview: 3200/40000 = 0.08 Clicks/Pageview\n",
    "\n",
    "Pageviews = 685,325"
   ]
  },
  {
   "cell_type": "markdown",
   "metadata": {},
   "source": [
    "# Duration and Exposure"
   ]
  },
  {
   "cell_type": "markdown",
   "metadata": {},
   "source": [
    "Number of Pageview: 685,325"
   ]
  },
  {
   "cell_type": "markdown",
   "metadata": {},
   "source": [
    "Fraction of Traffic Exposed:"
   ]
  },
  {
   "cell_type": "code",
   "execution_count": 20,
   "metadata": {
    "collapsed": false
   },
   "outputs": [
    {
     "data": {
      "text/plain": [
       "17.133125"
      ]
     },
     "execution_count": 20,
     "metadata": {},
     "output_type": "execute_result"
    }
   ],
   "source": [
    "685325.0/40000"
   ]
  },
  {
   "cell_type": "markdown",
   "metadata": {},
   "source": [
    "Length of Experiment: 18 days"
   ]
  },
  {
   "cell_type": "code",
   "execution_count": 25,
   "metadata": {
    "collapsed": true
   },
   "outputs": [],
   "source": [
    "df_control = pd.read_csv(\"Final Project Results - Control.csv\")\n",
    "df_experiment = pd.read_csv(\"Final Project Results - Experiment.csv\")"
   ]
  },
  {
   "cell_type": "code",
   "execution_count": 44,
   "metadata": {
    "collapsed": false
   },
   "outputs": [
    {
     "data": {
      "text/html": [
       "<div>\n",
       "<table border=\"1\" class=\"dataframe\">\n",
       "  <thead>\n",
       "    <tr style=\"text-align: right;\">\n",
       "      <th></th>\n",
       "      <th>Control</th>\n",
       "      <th>Experiment</th>\n",
       "    </tr>\n",
       "  </thead>\n",
       "  <tbody>\n",
       "    <tr>\n",
       "      <th>Cookies</th>\n",
       "      <td>345543.0</td>\n",
       "      <td>344660.0</td>\n",
       "    </tr>\n",
       "    <tr>\n",
       "      <th>Clicks</th>\n",
       "      <td>28378.0</td>\n",
       "      <td>28325.0</td>\n",
       "    </tr>\n",
       "    <tr>\n",
       "      <th>Enrollments</th>\n",
       "      <td>3785.0</td>\n",
       "      <td>3423.0</td>\n",
       "    </tr>\n",
       "    <tr>\n",
       "      <th>Payments</th>\n",
       "      <td>2033.0</td>\n",
       "      <td>1945.0</td>\n",
       "    </tr>\n",
       "  </tbody>\n",
       "</table>\n",
       "</div>"
      ],
      "text/plain": [
       "              Control  Experiment\n",
       "Cookies      345543.0    344660.0\n",
       "Clicks        28378.0     28325.0\n",
       "Enrollments    3785.0      3423.0\n",
       "Payments       2033.0      1945.0"
      ]
     },
     "execution_count": 44,
     "metadata": {},
     "output_type": "execute_result"
    }
   ],
   "source": [
    "results = {\"Control\":pd.Series([df_control.Pageviews.sum(),df_control.Clicks.sum(),\n",
    "                                  df_control.Enrollments.sum(),df_control.Payments.sum()],\n",
    "                                  index = [\"Cookies\",\"Clicks\",\"Enrollments\",\"Payments\"]),\n",
    "           \"Experiment\":pd.Series([df_experiment.Pageviews.sum(),df_experiment.Clicks.sum(),\n",
    "                               df_experiment.Enrollments.sum(),df_experiment.Payments.sum()],\n",
    "                               index = [\"Cookies\",\"Clicks\",\"Enrollments\",\"Payments\"])}\n",
    "df_results = pd.DataFrame(results)\n",
    "df_results"
   ]
  },
  {
   "cell_type": "markdown",
   "metadata": {},
   "source": [
    "# Sanity Checks"
   ]
  },
  {
   "cell_type": "code",
   "execution_count": 45,
   "metadata": {
    "collapsed": false
   },
   "outputs": [
    {
     "data": {
      "text/html": [
       "<div>\n",
       "<table border=\"1\" class=\"dataframe\">\n",
       "  <thead>\n",
       "    <tr style=\"text-align: right;\">\n",
       "      <th></th>\n",
       "      <th>Control</th>\n",
       "      <th>Experiment</th>\n",
       "      <th>Total</th>\n",
       "      <th>Prob</th>\n",
       "      <th>StdErr</th>\n",
       "      <th>MargErr</th>\n",
       "      <th>CI_lower</th>\n",
       "      <th>CI_upper</th>\n",
       "      <th>Obs_val</th>\n",
       "      <th>Pass_Sanity</th>\n",
       "      <th>Diff</th>\n",
       "    </tr>\n",
       "  </thead>\n",
       "  <tbody>\n",
       "    <tr>\n",
       "      <th>Cookies</th>\n",
       "      <td>345543.0</td>\n",
       "      <td>344660.0</td>\n",
       "      <td>690203.0</td>\n",
       "      <td>0.5</td>\n",
       "      <td>0.000602</td>\n",
       "      <td>0.001180</td>\n",
       "      <td>0.498820</td>\n",
       "      <td>0.501180</td>\n",
       "      <td>0.499360</td>\n",
       "      <td>True</td>\n",
       "      <td>0.001279</td>\n",
       "    </tr>\n",
       "    <tr>\n",
       "      <th>Clicks</th>\n",
       "      <td>28378.0</td>\n",
       "      <td>28325.0</td>\n",
       "      <td>56703.0</td>\n",
       "      <td>0.5</td>\n",
       "      <td>0.002100</td>\n",
       "      <td>0.004116</td>\n",
       "      <td>0.495884</td>\n",
       "      <td>0.504116</td>\n",
       "      <td>0.499533</td>\n",
       "      <td>True</td>\n",
       "      <td>0.000935</td>\n",
       "    </tr>\n",
       "    <tr>\n",
       "      <th>Enrollments</th>\n",
       "      <td>3785.0</td>\n",
       "      <td>3423.0</td>\n",
       "      <td>7208.0</td>\n",
       "      <td>0.5</td>\n",
       "      <td>0.005889</td>\n",
       "      <td>0.011543</td>\n",
       "      <td>0.488457</td>\n",
       "      <td>0.511543</td>\n",
       "      <td>0.474889</td>\n",
       "      <td>False</td>\n",
       "      <td>0.050222</td>\n",
       "    </tr>\n",
       "    <tr>\n",
       "      <th>Payments</th>\n",
       "      <td>2033.0</td>\n",
       "      <td>1945.0</td>\n",
       "      <td>3978.0</td>\n",
       "      <td>0.5</td>\n",
       "      <td>0.007928</td>\n",
       "      <td>0.015538</td>\n",
       "      <td>0.484462</td>\n",
       "      <td>0.515538</td>\n",
       "      <td>0.488939</td>\n",
       "      <td>True</td>\n",
       "      <td>0.022122</td>\n",
       "    </tr>\n",
       "  </tbody>\n",
       "</table>\n",
       "</div>"
      ],
      "text/plain": [
       "              Control  Experiment     Total  Prob    StdErr   MargErr  \\\n",
       "Cookies      345543.0    344660.0  690203.0   0.5  0.000602  0.001180   \n",
       "Clicks        28378.0     28325.0   56703.0   0.5  0.002100  0.004116   \n",
       "Enrollments    3785.0      3423.0    7208.0   0.5  0.005889  0.011543   \n",
       "Payments       2033.0      1945.0    3978.0   0.5  0.007928  0.015538   \n",
       "\n",
       "             CI_lower  CI_upper   Obs_val Pass_Sanity      Diff  \n",
       "Cookies      0.498820  0.501180  0.499360        True  0.001279  \n",
       "Clicks       0.495884  0.504116  0.499533        True  0.000935  \n",
       "Enrollments  0.488457  0.511543  0.474889       False  0.050222  \n",
       "Payments     0.484462  0.515538  0.488939        True  0.022122  "
      ]
     },
     "execution_count": 45,
     "metadata": {},
     "output_type": "execute_result"
    }
   ],
   "source": [
    "df_results['Total'] = df_results.Control + df_results.Experiment\n",
    "df_results['Prob'] = 0.5\n",
    "df_results['StdErr'] = np.sqrt((df_results.Prob * (1-df_results.Prob))/df_results.Total)\n",
    "df_results['MargErr'] = 1.96 * df_results.StdErr\n",
    "df_results['CI_lower'] = df_results.Prob - df_results.MargErr\n",
    "df_results['CI_upper'] = df_results.Prob + df_results.MargErr\n",
    "df_results['Obs_val'] = df_results.Experiment/df_results.Total\n",
    "df_results['Pass_Sanity'] = df_results.apply(lambda x: (x.Obs_val > x.CI_lower) and (x.Obs_val < x.CI_upper), axis=1)\n",
    "df_results['Diff'] = abs((df_results.Experiment - df_results.Control)/df_results.Total)\n",
    "\n",
    "df_results"
   ]
  },
  {
   "cell_type": "code",
   "execution_count": null,
   "metadata": {
    "collapsed": true
   },
   "outputs": [],
   "source": []
  }
 ],
 "metadata": {
  "anaconda-cloud": {},
  "kernelspec": {
   "display_name": "Python [Root]",
   "language": "python",
   "name": "Python [Root]"
  },
  "language_info": {
   "codemirror_mode": {
    "name": "ipython",
    "version": 2
   },
   "file_extension": ".py",
   "mimetype": "text/x-python",
   "name": "python",
   "nbconvert_exporter": "python",
   "pygments_lexer": "ipython2",
   "version": "2.7.12"
  }
 },
 "nbformat": 4,
 "nbformat_minor": 0
}
